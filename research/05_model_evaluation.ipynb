{
 "cells": [
  {
   "cell_type": "code",
   "execution_count": 1,
   "id": "979a68dd",
   "metadata": {},
   "outputs": [],
   "source": [
    "import os "
   ]
  },
  {
   "cell_type": "code",
   "execution_count": 2,
   "id": "b0a2f505",
   "metadata": {},
   "outputs": [
    {
     "data": {
      "text/plain": [
       "'c:\\\\Users\\\\amanbatra\\\\Chicken-Disease-Classification\\\\research'"
      ]
     },
     "execution_count": 2,
     "metadata": {},
     "output_type": "execute_result"
    }
   ],
   "source": [
    "%pwd"
   ]
  },
  {
   "cell_type": "code",
   "execution_count": 3,
   "id": "09d1d92e",
   "metadata": {},
   "outputs": [],
   "source": [
    "os.chdir(\"../\")"
   ]
  },
  {
   "cell_type": "code",
   "execution_count": 4,
   "id": "101273d3",
   "metadata": {},
   "outputs": [
    {
     "data": {
      "text/plain": [
       "'c:\\\\Users\\\\amanbatra\\\\Chicken-Disease-Classification'"
      ]
     },
     "execution_count": 4,
     "metadata": {},
     "output_type": "execute_result"
    }
   ],
   "source": [
    "%pwd"
   ]
  },
  {
   "cell_type": "code",
   "execution_count": 5,
   "id": "9d5e232b",
   "metadata": {},
   "outputs": [],
   "source": [
    "import tensorflow as tf"
   ]
  },
  {
   "cell_type": "code",
   "execution_count": 6,
   "id": "b62e012c",
   "metadata": {},
   "outputs": [],
   "source": [
    "model = tf.keras.models.load_model(\"artifacts/training/model.keras\")"
   ]
  },
  {
   "cell_type": "code",
   "execution_count": 55,
   "id": "53c22984",
   "metadata": {},
   "outputs": [],
   "source": [
    "\n",
    "from dataclasses import dataclass\n",
    "from pathlib import Path\n",
    "\n",
    "\n",
    "@dataclass(frozen=True)\n",
    "class EvaluationConfig:\n",
    "    path_of_model: Path\n",
    "    training_data: Path\n",
    "    all_params: dict\n",
    "    params_image_size: list\n",
    "    params_batch_size: int"
   ]
  },
  {
   "cell_type": "code",
   "execution_count": 56,
   "id": "d8ec6b43",
   "metadata": {},
   "outputs": [],
   "source": [
    "from Chicken_Disease_Classifier.constants import *\n",
    "from Chicken_Disease_Classifier.utils.common import read_yaml, create_directories, save_json"
   ]
  },
  {
   "cell_type": "code",
   "execution_count": 57,
   "id": "c2a7fb94",
   "metadata": {},
   "outputs": [],
   "source": [
    "class ConfigurationManager:\n",
    "    def __init__(\n",
    "        self, \n",
    "        config_filepath = CONFIG_FILE_PATH,\n",
    "        params_filepath = PARAMS_FILE_PATH):\n",
    "        self.config = read_yaml(config_filepath)\n",
    "        self.params = read_yaml(params_filepath)\n",
    "        create_directories([self.config.artifacts_root])\n",
    "\n",
    "    \n",
    "    def get_validation_config(self) -> EvaluationConfig:\n",
    "        eval_config = EvaluationConfig(\n",
    "            path_of_model=\"artifacts/training/model.keras\",\n",
    "            training_data=\"artifacts/data_ingestion/Chicken-fecal-images\",\n",
    "            \n",
    "            params_image_size=self.params.IMAGE_SIZE,\n",
    "            params_batch_size=self.params.BATCH_SIZE\n",
    "        )\n",
    "        return eval_config"
   ]
  },
  {
   "cell_type": "code",
   "execution_count": 58,
   "id": "c1d92fad",
   "metadata": {},
   "outputs": [],
   "source": [
    "from pathlib import Path\n",
    "from Chicken_Disease_Classifier.entity.config_entity import EvaluationConfig\n",
    "\n",
    "def get_validation_config(self) -> EvaluationConfig:\n",
    "    cfg = self.config\n",
    "    params = self.params\n",
    "\n",
    "    model_path = Path(cfg.training.trained_model_path)  # artifacts/training/model.keras\n",
    "    # fallback to checkpoint if final model missing\n",
    "    if not model_path.exists():\n",
    "        model_path = Path(cfg.prepare_callbacks.checkpoint_model_filepath)  # artifacts/prepare_callbacks/checkpoints/model.keras\n",
    "\n",
    "    return EvaluationConfig(\n",
    "        path_of_model=model_path,\n",
    "        training_data=Path(cfg.data_ingestion.unzip_dir),\n",
    "        params_image_size=tuple(params.IMAGE_SIZE),\n",
    "        params_batch_size=int(params.BATCH_SIZE),\n",
    "    )\n",
    "\n"
   ]
  },
  {
   "cell_type": "code",
   "execution_count": 59,
   "id": "d374716b",
   "metadata": {},
   "outputs": [],
   "source": [
    "# add near your other @dataclass configs\n",
    "from dataclasses import dataclass\n",
    "from pathlib import Path\n",
    "from typing import List\n",
    "\n",
    "@dataclass\n",
    "class EvaluationConfig:\n",
    "    path_of_model: Path          # e.g., artifacts/training/model.keras  (or checkpoint)\n",
    "    training_data: Path          # e.g., artifacts/data_ingestion\n",
    "    params_image_size: List[int] # e.g., [224, 224, 3]\n",
    "    params_batch_size: int       # e.g., 32\n"
   ]
  },
  {
   "cell_type": "code",
   "execution_count": 60,
   "id": "26564021",
   "metadata": {},
   "outputs": [],
   "source": [
    "\n",
    "from urllib.parse import urlparse"
   ]
  },
  {
   "cell_type": "code",
   "execution_count": 61,
   "id": "7a7028d8",
   "metadata": {},
   "outputs": [],
   "source": [
    "from pathlib import Path\n",
    "import tensorflow as tf\n",
    "from Chicken_Disease_Classifier.utils.common import save_json\n",
    "\n",
    "class Evaluation:\n",
    "    def __init__(self, config):\n",
    "        self.config = config\n",
    "        self.model = None\n",
    "        self.valid_generator = None\n",
    "        self.score = None\n",
    "\n",
    "    def _valid_generator(self):\n",
    "        datagenerator_kwargs = dict(rescale=1./255, validation_split=0.30)\n",
    "        dataflow_kwargs = dict(\n",
    "            target_size=self.config.params_image_size[:-1],\n",
    "            batch_size=self.config.params_batch_size,\n",
    "            interpolation=\"bilinear\",\n",
    "        )\n",
    "        valid_datagenerator = tf.keras.preprocessing.image.ImageDataGenerator(**datagenerator_kwargs)\n",
    "        self.valid_generator = valid_datagenerator.flow_from_directory(\n",
    "            directory=self.config.training_data,\n",
    "            subset=\"validation\",\n",
    "            shuffle=False,\n",
    "            **dataflow_kwargs\n",
    "        )\n",
    "\n",
    "    @staticmethod\n",
    "    def load_model(path: Path) -> tf.keras.Model:\n",
    "        p = Path(path)\n",
    "        if not p.exists():\n",
    "            raise FileNotFoundError(f\"Model file not found: {p.resolve()}\")\n",
    "        if p.suffix.lower() == \".h5\":\n",
    "            raise ValueError(f\"Found HDF5 file ({p}). Use a V3 '.keras' file with Keras 3.\")\n",
    "        return tf.keras.models.load_model(str(p))  # pass string\n",
    "\n",
    "    def evaluation(self):\n",
    "        self.model = self.load_model(self.config.path_of_model)\n",
    "        self._valid_generator()\n",
    "        self.score = self.model.evaluate(self.valid_generator)  # <-- FIXED\n",
    "\n",
    "    def save_score(self):\n",
    "        if self.score is None:\n",
    "            raise RuntimeError(\"Call evaluation() before save_score().\")\n",
    "        scores = {\"loss\": float(self.score[0]), \"accuracy\": float(self.score[1])}\n",
    "        save_json(path=Path(\"scores.json\"), data=scores)\n"
   ]
  },
  {
   "cell_type": "code",
   "execution_count": 62,
   "id": "baa965c1",
   "metadata": {},
   "outputs": [
    {
     "name": "stdout",
     "output_type": "stream",
     "text": [
      "[2025-10-24 03:13:25,783: INFO: common: yaml file: config\\config.yaml loaded successfully]\n",
      "[2025-10-24 03:13:25,787: INFO: common: yaml file: params.yaml loaded successfully]\n",
      "[2025-10-24 03:13:25,789: INFO: common: created directory at: artifacts]\n",
      "Found 116 images belonging to 2 classes.\n"
     ]
    },
    {
     "name": "stderr",
     "output_type": "stream",
     "text": [
      "c:\\Users\\amanbatra\\Chicken-Disease-Classification\\venv\\Lib\\site-packages\\keras\\src\\trainers\\data_adapters\\py_dataset_adapter.py:121: UserWarning: Your `PyDataset` class should call `super().__init__(**kwargs)` in its constructor. `**kwargs` can include `workers`, `use_multiprocessing`, `max_queue_size`. Do not pass these arguments to `fit()`, as they will be ignored.\n",
      "  self._warn_if_super_not_called()\n"
     ]
    },
    {
     "name": "stdout",
     "output_type": "stream",
     "text": [
      "\u001b[1m8/8\u001b[0m \u001b[32m━━━━━━━━━━━━━━━━━━━━\u001b[0m\u001b[37m\u001b[0m \u001b[1m13s\u001b[0m 2s/step - accuracy: 0.5086 - loss: 0.9356\n",
      "[2025-10-24 03:13:39,001: INFO: common: json file saved at: scores.json]\n"
     ]
    }
   ],
   "source": [
    "\n",
    "try:\n",
    "    config = ConfigurationManager()\n",
    "    val_config = config.get_validation_config()\n",
    "    evaluation = Evaluation(val_config)\n",
    "    evaluation.evaluation()\n",
    "    evaluation.save_score()\n",
    "\n",
    "except Exception as e:\n",
    "   raise e"
   ]
  }
 ],
 "metadata": {
  "kernelspec": {
   "display_name": "venv",
   "language": "python",
   "name": "python3"
  },
  "language_info": {
   "codemirror_mode": {
    "name": "ipython",
    "version": 3
   },
   "file_extension": ".py",
   "mimetype": "text/x-python",
   "name": "python",
   "nbconvert_exporter": "python",
   "pygments_lexer": "ipython3",
   "version": "3.13.5"
  }
 },
 "nbformat": 4,
 "nbformat_minor": 5
}
